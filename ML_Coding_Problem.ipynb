{
 "cells": [
  {
   "cell_type": "code",
   "execution_count": 70,
   "metadata": {},
   "outputs": [],
   "source": [
    "import pandas as pd"
   ]
  },
  {
   "cell_type": "code",
   "execution_count": 71,
   "metadata": {
    "collapsed": true
   },
   "outputs": [],
   "source": [
    "#load data\n",
    "data=pd.read_csv(\"marketing-data.csv\")"
   ]
  },
  {
   "cell_type": "code",
   "execution_count": 72,
   "metadata": {},
   "outputs": [
    {
     "data": {
      "text/html": [
       "<div>\n",
       "<style>\n",
       "    .dataframe thead tr:only-child th {\n",
       "        text-align: right;\n",
       "    }\n",
       "\n",
       "    .dataframe thead th {\n",
       "        text-align: left;\n",
       "    }\n",
       "\n",
       "    .dataframe tbody tr th {\n",
       "        vertical-align: top;\n",
       "    }\n",
       "</style>\n",
       "<table border=\"1\" class=\"dataframe\">\n",
       "  <thead>\n",
       "    <tr style=\"text-align: right;\">\n",
       "      <th></th>\n",
       "      <th>age</th>\n",
       "      <th>job</th>\n",
       "      <th>marital</th>\n",
       "      <th>education</th>\n",
       "      <th>default</th>\n",
       "      <th>balance</th>\n",
       "      <th>housing</th>\n",
       "      <th>loan</th>\n",
       "      <th>contact</th>\n",
       "      <th>day</th>\n",
       "      <th>month</th>\n",
       "      <th>duration</th>\n",
       "      <th>campaign</th>\n",
       "      <th>pdays</th>\n",
       "      <th>previous</th>\n",
       "      <th>poutcome</th>\n",
       "      <th>is_success</th>\n",
       "    </tr>\n",
       "  </thead>\n",
       "  <tbody>\n",
       "    <tr>\n",
       "      <th>0</th>\n",
       "      <td>58</td>\n",
       "      <td>management</td>\n",
       "      <td>married</td>\n",
       "      <td>tertiary</td>\n",
       "      <td>no</td>\n",
       "      <td>2143</td>\n",
       "      <td>yes</td>\n",
       "      <td>no</td>\n",
       "      <td>unknown</td>\n",
       "      <td>5</td>\n",
       "      <td>may</td>\n",
       "      <td>261</td>\n",
       "      <td>1</td>\n",
       "      <td>-1</td>\n",
       "      <td>0</td>\n",
       "      <td>unknown</td>\n",
       "      <td>no</td>\n",
       "    </tr>\n",
       "    <tr>\n",
       "      <th>1</th>\n",
       "      <td>44</td>\n",
       "      <td>technician</td>\n",
       "      <td>single</td>\n",
       "      <td>secondary</td>\n",
       "      <td>no</td>\n",
       "      <td>29</td>\n",
       "      <td>yes</td>\n",
       "      <td>no</td>\n",
       "      <td>unknown</td>\n",
       "      <td>5</td>\n",
       "      <td>may</td>\n",
       "      <td>151</td>\n",
       "      <td>1</td>\n",
       "      <td>-1</td>\n",
       "      <td>0</td>\n",
       "      <td>unknown</td>\n",
       "      <td>no</td>\n",
       "    </tr>\n",
       "    <tr>\n",
       "      <th>2</th>\n",
       "      <td>33</td>\n",
       "      <td>entrepreneur</td>\n",
       "      <td>married</td>\n",
       "      <td>secondary</td>\n",
       "      <td>no</td>\n",
       "      <td>2</td>\n",
       "      <td>yes</td>\n",
       "      <td>yes</td>\n",
       "      <td>unknown</td>\n",
       "      <td>5</td>\n",
       "      <td>may</td>\n",
       "      <td>76</td>\n",
       "      <td>1</td>\n",
       "      <td>-1</td>\n",
       "      <td>0</td>\n",
       "      <td>unknown</td>\n",
       "      <td>no</td>\n",
       "    </tr>\n",
       "    <tr>\n",
       "      <th>3</th>\n",
       "      <td>47</td>\n",
       "      <td>blue-collar</td>\n",
       "      <td>married</td>\n",
       "      <td>unknown</td>\n",
       "      <td>no</td>\n",
       "      <td>1506</td>\n",
       "      <td>yes</td>\n",
       "      <td>no</td>\n",
       "      <td>unknown</td>\n",
       "      <td>5</td>\n",
       "      <td>may</td>\n",
       "      <td>92</td>\n",
       "      <td>1</td>\n",
       "      <td>-1</td>\n",
       "      <td>0</td>\n",
       "      <td>unknown</td>\n",
       "      <td>no</td>\n",
       "    </tr>\n",
       "    <tr>\n",
       "      <th>4</th>\n",
       "      <td>33</td>\n",
       "      <td>unknown</td>\n",
       "      <td>single</td>\n",
       "      <td>unknown</td>\n",
       "      <td>no</td>\n",
       "      <td>1</td>\n",
       "      <td>no</td>\n",
       "      <td>no</td>\n",
       "      <td>unknown</td>\n",
       "      <td>5</td>\n",
       "      <td>may</td>\n",
       "      <td>198</td>\n",
       "      <td>1</td>\n",
       "      <td>-1</td>\n",
       "      <td>0</td>\n",
       "      <td>unknown</td>\n",
       "      <td>no</td>\n",
       "    </tr>\n",
       "  </tbody>\n",
       "</table>\n",
       "</div>"
      ],
      "text/plain": [
       "   age           job  marital  education default  balance housing loan  \\\n",
       "0   58    management  married   tertiary      no     2143     yes   no   \n",
       "1   44    technician   single  secondary      no       29     yes   no   \n",
       "2   33  entrepreneur  married  secondary      no        2     yes  yes   \n",
       "3   47   blue-collar  married    unknown      no     1506     yes   no   \n",
       "4   33       unknown   single    unknown      no        1      no   no   \n",
       "\n",
       "   contact  day month  duration  campaign  pdays  previous poutcome is_success  \n",
       "0  unknown    5   may       261         1     -1         0  unknown         no  \n",
       "1  unknown    5   may       151         1     -1         0  unknown         no  \n",
       "2  unknown    5   may        76         1     -1         0  unknown         no  \n",
       "3  unknown    5   may        92         1     -1         0  unknown         no  \n",
       "4  unknown    5   may       198         1     -1         0  unknown         no  "
      ]
     },
     "execution_count": 72,
     "metadata": {},
     "output_type": "execute_result"
    }
   ],
   "source": [
    "data.head()"
   ]
  },
  {
   "cell_type": "code",
   "execution_count": 73,
   "metadata": {},
   "outputs": [
    {
     "data": {
      "text/plain": [
       "(45211, 17)"
      ]
     },
     "execution_count": 73,
     "metadata": {},
     "output_type": "execute_result"
    }
   ],
   "source": [
    "data.columns.values\n",
    "data.shape\n",
    "#bank.dtypes"
   ]
  },
  {
   "cell_type": "code",
   "execution_count": 74,
   "metadata": {},
   "outputs": [],
   "source": [
    "# convert the response to numeric values and store as a new column\n",
    "data1=data.copy()\n",
    "data1['outcome'] = data1.is_success.map({'no':0, 'yes':1})"
   ]
  },
  {
   "cell_type": "code",
   "execution_count": 75,
   "metadata": {},
   "outputs": [
    {
     "data": {
      "text/plain": [
       "<matplotlib.axes._subplots.AxesSubplot at 0x3c9a32fb38>"
      ]
     },
     "execution_count": 75,
     "metadata": {},
     "output_type": "execute_result"
    },
    {
     "data": {
      "image/png": "[encoded data removed]",
      "text/plain": [
       "<matplotlib.figure.Figure at 0x3c9a3008d0>"
      ]
     },
     "metadata": {},
     "output_type": "display_data"
    }
   ],
   "source": [
    "%matplotlib inline\n",
    "\n",
    "# maybe not a great feature\n",
    "data1.boxplot(column='age', by='outcome')"
   ]
  },
  {
   "cell_type": "code",
   "execution_count": 76,
   "metadata": {},
   "outputs": [
    {
     "name": "stdout",
     "output_type": "stream",
     "text": [
      "['age', 'balance', 'duration', 'campaign', 'pdays', 'previous']\n"
     ]
    }
   ],
   "source": [
    "from sklearn import preprocessing\n",
    "\n",
    "# Variables\n",
    "var_names = data.columns.tolist()\n",
    "\n",
    "# Categorical variables\n",
    "categs = ['job','marital','education','default','housing','loan','contact','month','day','poutcome','is_success']\n",
    "# Quantitative variables\n",
    "quantit = [i for i in var_names if i not in categs]\n",
    "print(quantit)\n",
    "\n",
    "# Map variable to predict\n",
    "dict_map = dict()\n",
    "y_map = {'yes':1,'no':0}\n",
    "dict_map['is_success'] = y_map\n",
    "data = data.replace(dict_map)\n",
    "label = data['is_success']\n",
    "\n",
    "#df1 = data[quantit]\n",
    "#df1_names = df1.keys().tolist()\n",
    "\n",
    "\n",
    "from sklearn.preprocessing import MinMaxScaler\n",
    "from sklearn.model_selection import train_test_split\n",
    "from sklearn.neighbors import KNeighborsClassifier\n",
    "\n",
    "#splitting of data into training and testing data\n",
    "X_train, X_test, y_train, y_test = train_test_split(data[quantit], label, random_state=0)\n",
    "\n",
    "#scaling of data\n",
    "scaler = MinMaxScaler()\n",
    "X_train_scaled = scaler.fit_transform(X_train)\n",
    "X_test_scaled = scaler.transform(X_test)\n",
    "\n",
    "X_final=scaler.transform(data[quantit])"
   ]
  },
  {
   "cell_type": "code",
   "execution_count": 77,
   "metadata": {},
   "outputs": [
    {
     "name": "stdout",
     "output_type": "stream",
     "text": [
      "Accuracy of K-NN classifier on training set: 0.9090\n",
      "Accuracy of K-NN classifier on test set: 0.8873\n",
      "Accuracy of K-NN classifier on complete set: 0.9093\n"
     ]
    }
   ],
   "source": [
    "# use of knn\n",
    "knn = KNeighborsClassifier(n_neighbors = 7)\n",
    "knn.fit(X_train_scaled, y_train)\n",
    "print('Accuracy of K-NN classifier on training set: {:.4f}'\n",
    "     .format(knn.score(X_train_scaled, y_train)))\n",
    "print('Accuracy of K-NN classifier on test set: {:.4f}'\n",
    "     .format(knn.score(X_test_scaled, y_test)))\n",
    "\n",
    "\n",
    "knn2 = KNeighborsClassifier(n_neighbors = 7)\n",
    "knn2.fit(X_final, label)\n",
    "print('Accuracy of K-NN classifier on complete set: {:.4f}'\n",
    "     .format(knn2.score(X_final, label)))"
   ]
  },
  {
   "cell_type": "code",
   "execution_count": 78,
   "metadata": {},
   "outputs": [
    {
     "name": "stdout",
     "output_type": "stream",
     "text": [
      "[0.85307369065508998, 0.87640182348193907, 0.88507169393888796, 0.88701830091278455, 0.88872857182612575, 0.88999662575833471, 0.89164817790950068, 0.89058661365280789]\n"
     ]
    }
   ],
   "source": [
    "#cross validation technique\n",
    "from sklearn.cross_validation import cross_val_score\n",
    "\n",
    "k_range=[1,3,5,7,9,11,15,19]\n",
    "k_scores=[]\n",
    "for k in k_range:\n",
    "    knn = KNeighborsClassifier(n_neighbors = k)\n",
    "    scores=cross_val_score(knn, X_train_scaled, y_train, cv=10, scoring=\"accuracy\")\n",
    "    k_scores.append(scores.mean())\n",
    "print(k_scores)"
   ]
  },
  {
   "cell_type": "code",
   "execution_count": 79,
   "metadata": {},
   "outputs": [
    {
     "name": "stdout",
     "output_type": "stream",
     "text": [
      "[ 0.87971698  0.88561321  0.88679245  0.88767689  0.88259587  0.89380531\n",
      "  0.89174041  0.88672566  0.88967552  0.88584071]\n",
      "0.887018300913\n"
     ]
    }
   ],
   "source": [
    "from sklearn.cross_validation import cross_val_score\n",
    "\n",
    "knn1=KNeighborsClassifier(n_neighbors = 7)\n",
    "scores=cross_val_score(knn1, X_train_scaled, y_train, cv=10, scoring=\"accuracy\")\n",
    "print(scores)\n",
    "print(scores.mean())"
   ]
  },
  {
   "cell_type": "code",
   "execution_count": 80,
   "metadata": {},
   "outputs": [
    {
     "name": "stdout",
     "output_type": "stream",
     "text": [
      "Accuracy of linear classifier on training set: 0.8891\n",
      "Accuracy of linear classifier on test set: 0.8883\n",
      "Coefficients of binary classifier of quantitative values ['age', 'balance', 'duration', 'campaign', 'pdays', 'previous'] [[  0.53178991   3.35094975  16.24342052  -5.64846225   2.30263619\n",
      "    3.29348039]]\n",
      "Accuracy of linear binary classifier on complete set: 0.8889\n"
     ]
    }
   ],
   "source": [
    "from sklearn.linear_model import LogisticRegression\n",
    "from sklearn import metrics\n",
    "\n",
    "logreg=LogisticRegression()\n",
    "logreg.fit(X_train_scaled, y_train)\n",
    "print('Accuracy of linear classifier on training set: {:.4f}'\n",
    "     .format(logreg.score(X_train_scaled, y_train)))\n",
    "print('Accuracy of linear classifier on test set: {:.4f}'\n",
    "     .format(logreg.score(X_test_scaled, y_test)))\n",
    "\n",
    "print(\"Coefficients of binary classifier of quantitative values\",quantit,logreg.coef_)\n",
    "\n",
    "logreg1=LogisticRegression()\n",
    "logreg1.fit(X_train_scaled, y_train)\n",
    "print('Accuracy of linear binary classifier on complete set: {:.4f}'\n",
    "     .format(logreg1.score(X_final, label)))"
   ]
  },
  {
   "cell_type": "code",
   "execution_count": 81,
   "metadata": {},
   "outputs": [
    {
     "name": "stdout",
     "output_type": "stream",
     "text": [
      "[ 0.88413915  0.89209906  0.88590802  0.88915094  0.88554572  0.8840708\n",
      "  0.8899705   0.8920354   0.89174041  0.89410029]\n",
      "0.888876029665\n"
     ]
    }
   ],
   "source": [
    "#crosss validation\n",
    "scores1=cross_val_score(logreg, X_train_scaled, y_train, cv=10, scoring=\"accuracy\")\n",
    "print(scores1)\n",
    "print(scores1.mean())"
   ]
  },
  {
   "cell_type": "code",
   "execution_count": 82,
   "metadata": {},
   "outputs": [
    {
     "name": "stdout",
     "output_type": "stream",
     "text": [
      "Accuracy of Linear SVC classifier on training set: 0.8831\n",
      "Accuracy of Linear SVC classifier on test set: 0.8828\n",
      "Accuracy of Linear SVC classifier on complete set: 0.8830\n"
     ]
    }
   ],
   "source": [
    "#SVM\n",
    "from sklearn.svm import SVC\n",
    "\n",
    "this_C = 1.0\n",
    "clf = SVC(C=this_C).fit(X_train_scaled, y_train)\n",
    "print('Accuracy of Linear SVC classifier on training set: {:.4f}'\n",
    "     .format(clf.score(X_train_scaled, y_train)))\n",
    "print('Accuracy of Linear SVC classifier on test set: {:.4f}'\n",
    "     .format(clf.score(X_test_scaled, y_test)))\n",
    "\n",
    "clf = SVC(C=this_C).fit(X_final, label)\n",
    "print('Accuracy of Linear SVC classifier on complete set: {:.4f}'\n",
    "     .format(clf.score(X_final, label)))"
   ]
  },
  {
   "cell_type": "code",
   "execution_count": 83,
   "metadata": {},
   "outputs": [
    {
     "name": "stdout",
     "output_type": "stream",
     "text": [
      "Accuracy of Decision Tree classifier on training set: 0.9999\n",
      "Accuracy of Decision Tree classifier on test set: 0.8489\n",
      "Accuracy of Decision Tree classifier on complete set: 0.9621\n"
     ]
    }
   ],
   "source": [
    "#Decision tree\n",
    "from sklearn.tree import DecisionTreeClassifier\n",
    "clf = DecisionTreeClassifier().fit(X_train_scaled, y_train)\n",
    "\n",
    "print('Accuracy of Decision Tree classifier on training set: {:.4f}'\n",
    "     .format(clf.score(X_train_scaled, y_train)))\n",
    "print('Accuracy of Decision Tree classifier on test set: {:.4f}'\n",
    "     .format(clf.score(X_test_scaled, y_test)))\n",
    "\n",
    "clf1 = DecisionTreeClassifier().fit(X_final, label)\n",
    "\n",
    "print('Accuracy of Decision Tree classifier on complete set: {:.4f}'\n",
    "     .format(clf.score(X_final, label)))"
   ]
  },
  {
   "cell_type": "code",
   "execution_count": 84,
   "metadata": {},
   "outputs": [
    {
     "name": "stdout",
     "output_type": "stream",
     "text": [
      "Accuracy of Decision Tree classifier on training set: 0.9182\n",
      "Accuracy of Decision Tree classifier on test set: 0.8874\n",
      "Accuracy of Decision Tree classifier on complete set: 0.9105\n"
     ]
    }
   ],
   "source": [
    "#Decision tree to minimize overfitting\n",
    "clf2 = DecisionTreeClassifier(max_depth = 10).fit(X_train_scaled, y_train)\n",
    "\n",
    "print('Accuracy of Decision Tree classifier on training set: {:.4f}'\n",
    "     .format(clf2.score(X_train_scaled, y_train)))\n",
    "print('Accuracy of Decision Tree classifier on test set: {:.4f}'\n",
    "     .format(clf2.score(X_test_scaled, y_test)))\n",
    "\n",
    "clf3 = DecisionTreeClassifier(max_depth = 10).fit(X_final, label)\n",
    "\n",
    "print('Accuracy of Decision Tree classifier on complete set: {:.4f}'\n",
    "     .format(clf2.score(X_final, label)))"
   ]
  },
  {
   "cell_type": "code",
   "execution_count": 85,
   "metadata": {},
   "outputs": [
    {
     "name": "stdout",
     "output_type": "stream",
     "text": [
      "Accuracy of RF classifier on training set: 0.9249\n",
      "Accuracy of RF classifier on test set: 0.8936\n",
      "Accuracy of RF classifier on complete set: 0.9201\n"
     ]
    }
   ],
   "source": [
    "#random forest\n",
    "from sklearn.ensemble import RandomForestClassifier\n",
    "\n",
    "clf = RandomForestClassifier(max_features = 3, n_estimators=40, max_depth=10)\n",
    "clf.fit(X_train_scaled, y_train)\n",
    "\n",
    "\n",
    "print('Accuracy of RF classifier on training set: {:.4f}'\n",
    "     .format(clf.score(X_train_scaled, y_train)))\n",
    "print('Accuracy of RF classifier on test set: {:.4f}'\n",
    "     .format(clf.score(X_test_scaled, y_test)))\n",
    "\n",
    "clf.fit(X_final, label)\n",
    "\n",
    "\n",
    "print('Accuracy of RF classifier on complete set: {:.4f}'\n",
    "     .format(clf.score(X_final, label)))"
   ]
  },
  {
   "cell_type": "code",
   "execution_count": null,
   "metadata": {
    "collapsed": true
   },
   "outputs": [],
   "source": []
  }
 ],
 "metadata": {
  "kernelspec": {
   "display_name": "Python 3",
   "language": "python",
   "name": "python3"
  },
  "language_info": {
   "codemirror_mode": {
    "name": "ipython",
    "version": 3
   },
   "file_extension": ".py",
   "mimetype": "text/x-python",
   "name": "python",
   "nbconvert_exporter": "python",
   "pygments_lexer": "ipython3",
   "version": "3.6.1"
  }
 },
 "nbformat": 4,
 "nbformat_minor": 2
}
